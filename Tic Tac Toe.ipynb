{
 "cells": [
  {
   "cell_type": "code",
   "execution_count": 1,
   "id": "45421f8e",
   "metadata": {},
   "outputs": [],
   "source": [
    "board=[\" \"]*10"
   ]
  },
  {
   "cell_type": "code",
   "execution_count": 2,
   "id": "8ad76fb3",
   "metadata": {},
   "outputs": [],
   "source": [
    "board[0]='$'"
   ]
  },
  {
   "cell_type": "code",
   "execution_count": 3,
   "id": "72a98f8e",
   "metadata": {},
   "outputs": [],
   "source": [
    "from IPython.display import clear_output\n",
    "def display_board():\n",
    "    clear_output()\n",
    "    print(f'{board[1]} | {board[2]} | {board[3]}')\n",
    "    print(\"---------\")\n",
    "    print(f'{board[4]} | {board[5]} | {board[6]}')\n",
    "    print(\"---------\")\n",
    "    print(f'{board[7]} | {board[8]} | {board[9]}')"
   ]
  },
  {
   "cell_type": "code",
   "execution_count": 4,
   "id": "0c989de6",
   "metadata": {},
   "outputs": [],
   "source": [
    "def check_win():\n",
    "    if board[1]==board[2]==board[3] and board[1]!=\" \":\n",
    "        return True\n",
    "    elif board[4]==board[5]==board[6] and board[4]!=\" \":\n",
    "        return True\n",
    "    elif board[7]==board[8]==board[9] and board[7]!=\" \":\n",
    "        return True\n",
    "    elif board[1]==board[5]==board[9] and board[1]!=\" \":\n",
    "        return True\n",
    "    elif board[3]==board[5]==board[7] and board[3]!=\" \":\n",
    "        return True\n",
    "    elif board[1]==board[4]==board[7] and board[1]!=\" \":\n",
    "        return True\n",
    "    elif board[2]==board[5]==board[8] and board[2]!=\" \":\n",
    "        return True\n",
    "    elif board[3]==board[6]==board[9] and board[3]!=\" \":\n",
    "        return True\n",
    "    else:\n",
    "        return False"
   ]
  },
  {
   "cell_type": "code",
   "execution_count": 5,
   "id": "35fef9d4",
   "metadata": {},
   "outputs": [],
   "source": [
    "def check_draw():\n",
    "    if ' ' not in board:\n",
    "        return True\n",
    "    else:\n",
    "        return False"
   ]
  },
  {
   "cell_type": "code",
   "execution_count": 6,
   "id": "30e953fa",
   "metadata": {},
   "outputs": [],
   "source": [
    "current_player='X'"
   ]
  },
  {
   "cell_type": "code",
   "execution_count": 7,
   "id": "681a11e9",
   "metadata": {},
   "outputs": [
    {
     "name": "stdout",
     "output_type": "stream",
     "text": [
      "O | O | X\n",
      "---------\n",
      "X | O | X\n",
      "---------\n",
      "  |   | X\n",
      "X Won!\n"
     ]
    }
   ],
   "source": [
    "while True:\n",
    "    display_board()\n",
    "    check_draw()\n",
    "    \n",
    "    move=int(input(f'{current_player} Enter your position'))\n",
    "    \n",
    "    if board[move]!=\" \":\n",
    "        print(\"This space is occupied choose another position\")\n",
    "        move= int(input(\"Enter the number 1-9\"))\n",
    "        \n",
    "    board[move]=current_player\n",
    "        \n",
    "    if check_win():\n",
    "        display_board()\n",
    "        print(f'{current_player} Won!')\n",
    "        break\n",
    "        \n",
    "    if check_draw():\n",
    "        display_board()\n",
    "        print(\"DRAW!\")\n",
    "        break\n",
    "        \n",
    "    if current_player==\"X\":\n",
    "        current_player=\"O\"\n",
    "    else:\n",
    "        current_player=\"X\""
   ]
  },
  {
   "cell_type": "code",
   "execution_count": null,
   "id": "c8e81c7e",
   "metadata": {},
   "outputs": [],
   "source": []
  }
 ],
 "metadata": {
  "kernelspec": {
   "display_name": "Python 3 (ipykernel)",
   "language": "python",
   "name": "python3"
  },
  "language_info": {
   "codemirror_mode": {
    "name": "ipython",
    "version": 3
   },
   "file_extension": ".py",
   "mimetype": "text/x-python",
   "name": "python",
   "nbconvert_exporter": "python",
   "pygments_lexer": "ipython3",
   "version": "3.10.9"
  }
 },
 "nbformat": 4,
 "nbformat_minor": 5
}
